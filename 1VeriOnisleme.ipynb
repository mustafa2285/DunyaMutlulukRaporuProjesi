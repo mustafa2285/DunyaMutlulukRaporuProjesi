{
 "cells": [
  {
   "cell_type": "code",
   "execution_count": 1,
   "id": "4f0b6aaa",
   "metadata": {},
   "outputs": [],
   "source": [
    "import numpy as np\n",
    "import pandas as pd\n",
    "import matplotlib.pyplot as plt\n",
    "import seaborn as sns"
   ]
  },
  {
   "cell_type": "code",
   "execution_count": 2,
   "id": "b3d87727",
   "metadata": {},
   "outputs": [],
   "source": [
    "dfa = pd.read_csv(\"2015.csv\")\n",
    "dfb = pd.read_csv(\"2016.csv\")\n",
    "dfc = pd.read_csv(\"2017.csv\")\n",
    "dfd = pd.read_csv(\"2018.csv\")\n",
    "dfe = pd.read_csv(\"2019.csv\")"
   ]
  },
  {
   "cell_type": "code",
   "execution_count": 3,
   "id": "4e47c8b7",
   "metadata": {},
   "outputs": [
    {
     "name": "stdout",
     "output_type": "stream",
     "text": [
      "<class 'pandas.core.frame.DataFrame'>\n",
      "RangeIndex: 158 entries, 0 to 157\n",
      "Data columns (total 12 columns):\n",
      " #   Column                         Non-Null Count  Dtype  \n",
      "---  ------                         --------------  -----  \n",
      " 0   Country                        158 non-null    object \n",
      " 1   Region                         158 non-null    object \n",
      " 2   Happiness Rank                 158 non-null    int64  \n",
      " 3   Happiness Score                158 non-null    float64\n",
      " 4   Standard Error                 158 non-null    float64\n",
      " 5   Economy (GDP per Capita)       158 non-null    float64\n",
      " 6   Family                         158 non-null    float64\n",
      " 7   Health (Life Expectancy)       158 non-null    float64\n",
      " 8   Freedom                        158 non-null    float64\n",
      " 9   Trust (Government Corruption)  158 non-null    float64\n",
      " 10  Generosity                     158 non-null    float64\n",
      " 11  Dystopia Residual              158 non-null    float64\n",
      "dtypes: float64(9), int64(1), object(2)\n",
      "memory usage: 14.9+ KB\n"
     ]
    }
   ],
   "source": [
    "dfa.info()"
   ]
  },
  {
   "cell_type": "code",
   "execution_count": 4,
   "id": "a3b06b81",
   "metadata": {},
   "outputs": [],
   "source": [
    "dfa.drop(\"Region\", axis = 1, inplace = True)\n",
    "dfa.drop(\"Standard Error\", axis = 1, inplace = True)\n",
    "dfa.drop(\"Dystopia Residual\", axis = 1, inplace = True)"
   ]
  },
  {
   "cell_type": "code",
   "execution_count": 5,
   "id": "c5420c1f",
   "metadata": {},
   "outputs": [],
   "source": [
    "dfa[\"Year\"] = 2015"
   ]
  },
  {
   "cell_type": "code",
   "execution_count": 6,
   "id": "6da047d3",
   "metadata": {},
   "outputs": [],
   "source": [
    "dfa=dfa.rename(columns = {'Economy (GDP per Capita)':'Economy(GDP per Capita)'})"
   ]
  },
  {
   "cell_type": "code",
   "execution_count": 7,
   "id": "fa1c877c",
   "metadata": {},
   "outputs": [
    {
     "name": "stdout",
     "output_type": "stream",
     "text": [
      "<class 'pandas.core.frame.DataFrame'>\n",
      "RangeIndex: 158 entries, 0 to 157\n",
      "Data columns (total 10 columns):\n",
      " #   Column                         Non-Null Count  Dtype  \n",
      "---  ------                         --------------  -----  \n",
      " 0   Country                        158 non-null    object \n",
      " 1   Happiness Rank                 158 non-null    int64  \n",
      " 2   Happiness Score                158 non-null    float64\n",
      " 3   Economy(GDP per Capita)        158 non-null    float64\n",
      " 4   Family                         158 non-null    float64\n",
      " 5   Health (Life Expectancy)       158 non-null    float64\n",
      " 6   Freedom                        158 non-null    float64\n",
      " 7   Trust (Government Corruption)  158 non-null    float64\n",
      " 8   Generosity                     158 non-null    float64\n",
      " 9   Year                           158 non-null    int64  \n",
      "dtypes: float64(7), int64(2), object(1)\n",
      "memory usage: 12.5+ KB\n"
     ]
    }
   ],
   "source": [
    "dfa.info()"
   ]
  },
  {
   "cell_type": "code",
   "execution_count": 8,
   "id": "fbccd087",
   "metadata": {},
   "outputs": [
    {
     "name": "stdout",
     "output_type": "stream",
     "text": [
      "<class 'pandas.core.frame.DataFrame'>\n",
      "RangeIndex: 157 entries, 0 to 156\n",
      "Data columns (total 13 columns):\n",
      " #   Column                         Non-Null Count  Dtype  \n",
      "---  ------                         --------------  -----  \n",
      " 0   Country                        157 non-null    object \n",
      " 1   Region                         157 non-null    object \n",
      " 2   Happiness Rank                 157 non-null    int64  \n",
      " 3   Happiness Score                157 non-null    float64\n",
      " 4   Lower Confidence Interval      157 non-null    float64\n",
      " 5   Upper Confidence Interval      157 non-null    float64\n",
      " 6   Economy (GDP per Capita)       157 non-null    float64\n",
      " 7   Family                         157 non-null    float64\n",
      " 8   Health (Life Expectancy)       157 non-null    float64\n",
      " 9   Freedom                        157 non-null    float64\n",
      " 10  Trust (Government Corruption)  157 non-null    float64\n",
      " 11  Generosity                     157 non-null    float64\n",
      " 12  Dystopia Residual              157 non-null    float64\n",
      "dtypes: float64(10), int64(1), object(2)\n",
      "memory usage: 16.1+ KB\n"
     ]
    }
   ],
   "source": [
    "dfb.info()"
   ]
  },
  {
   "cell_type": "code",
   "execution_count": 9,
   "id": "6e4a75a8",
   "metadata": {},
   "outputs": [],
   "source": [
    "dfb.drop(\"Region\", axis = 1, inplace = True)\n",
    "dfb.drop(\"Lower Confidence Interval\", axis = 1, inplace = True)\n",
    "dfb.drop(\"Upper Confidence Interval\", axis = 1, inplace = True)\n",
    "dfb.drop(\"Dystopia Residual\", axis = 1, inplace = True)"
   ]
  },
  {
   "cell_type": "code",
   "execution_count": 10,
   "id": "59e1c531",
   "metadata": {},
   "outputs": [],
   "source": [
    "dfb[\"Year\"] = 2016"
   ]
  },
  {
   "cell_type": "code",
   "execution_count": 11,
   "id": "e6edccf3",
   "metadata": {},
   "outputs": [],
   "source": [
    "dfb=dfb.rename(columns = {'Economy (GDP per Capita)':'Economy(GDP per Capita)'})"
   ]
  },
  {
   "cell_type": "code",
   "execution_count": 12,
   "id": "57e309e5",
   "metadata": {},
   "outputs": [
    {
     "name": "stdout",
     "output_type": "stream",
     "text": [
      "<class 'pandas.core.frame.DataFrame'>\n",
      "RangeIndex: 157 entries, 0 to 156\n",
      "Data columns (total 10 columns):\n",
      " #   Column                         Non-Null Count  Dtype  \n",
      "---  ------                         --------------  -----  \n",
      " 0   Country                        157 non-null    object \n",
      " 1   Happiness Rank                 157 non-null    int64  \n",
      " 2   Happiness Score                157 non-null    float64\n",
      " 3   Economy(GDP per Capita)        157 non-null    float64\n",
      " 4   Family                         157 non-null    float64\n",
      " 5   Health (Life Expectancy)       157 non-null    float64\n",
      " 6   Freedom                        157 non-null    float64\n",
      " 7   Trust (Government Corruption)  157 non-null    float64\n",
      " 8   Generosity                     157 non-null    float64\n",
      " 9   Year                           157 non-null    int64  \n",
      "dtypes: float64(7), int64(2), object(1)\n",
      "memory usage: 12.4+ KB\n"
     ]
    }
   ],
   "source": [
    "dfb.info()"
   ]
  },
  {
   "cell_type": "code",
   "execution_count": 13,
   "id": "5e7621d9",
   "metadata": {},
   "outputs": [
    {
     "name": "stdout",
     "output_type": "stream",
     "text": [
      "<class 'pandas.core.frame.DataFrame'>\n",
      "RangeIndex: 155 entries, 0 to 154\n",
      "Data columns (total 12 columns):\n",
      " #   Column                         Non-Null Count  Dtype  \n",
      "---  ------                         --------------  -----  \n",
      " 0   Country                        155 non-null    object \n",
      " 1   Happiness.Rank                 155 non-null    int64  \n",
      " 2   Happiness.Score                155 non-null    float64\n",
      " 3   Whisker.high                   155 non-null    float64\n",
      " 4   Whisker.low                    155 non-null    float64\n",
      " 5   Economy..GDP.per.Capita.       155 non-null    float64\n",
      " 6   Family                         155 non-null    float64\n",
      " 7   Health..Life.Expectancy.       155 non-null    float64\n",
      " 8   Freedom                        155 non-null    float64\n",
      " 9   Generosity                     155 non-null    float64\n",
      " 10  Trust..Government.Corruption.  155 non-null    float64\n",
      " 11  Dystopia.Residual              155 non-null    float64\n",
      "dtypes: float64(10), int64(1), object(1)\n",
      "memory usage: 14.7+ KB\n"
     ]
    }
   ],
   "source": [
    "dfc.info()"
   ]
  },
  {
   "cell_type": "code",
   "execution_count": 14,
   "id": "b251e52a",
   "metadata": {},
   "outputs": [],
   "source": [
    "dfc.drop(\"Whisker.high\", axis = 1, inplace = True)\n",
    "dfc.drop(\"Whisker.low\", axis = 1, inplace = True)\n",
    "dfc.drop(\"Dystopia.Residual\", axis = 1, inplace = True)"
   ]
  },
  {
   "cell_type": "code",
   "execution_count": 15,
   "id": "f9709b66",
   "metadata": {},
   "outputs": [],
   "source": [
    "dfc[\"Year\"] = 2017"
   ]
  },
  {
   "cell_type": "code",
   "execution_count": 16,
   "id": "df7f1902",
   "metadata": {},
   "outputs": [],
   "source": [
    "dfc=dfc.rename(columns = {'Economy..GDP.per.Capita.':'Economy(GDP per Capita)'})\n",
    "dfc=dfc.rename(columns = {'Happiness.Rank':'Happiness Rank'})\n",
    "dfc=dfc.rename(columns = {'Happiness.Score':'Happiness Score'})\n",
    "dfc=dfc.rename(columns = {'Health..Life.Expectancy.':'Health (Life Expectancy)'})\n",
    "dfc=dfc.rename(columns = {'Trust..Government.Corruption.':'Trust (Government Corruption)'})"
   ]
  },
  {
   "cell_type": "code",
   "execution_count": 17,
   "id": "c40dc69c",
   "metadata": {},
   "outputs": [
    {
     "name": "stdout",
     "output_type": "stream",
     "text": [
      "<class 'pandas.core.frame.DataFrame'>\n",
      "RangeIndex: 155 entries, 0 to 154\n",
      "Data columns (total 10 columns):\n",
      " #   Column                         Non-Null Count  Dtype  \n",
      "---  ------                         --------------  -----  \n",
      " 0   Country                        155 non-null    object \n",
      " 1   Happiness Rank                 155 non-null    int64  \n",
      " 2   Happiness Score                155 non-null    float64\n",
      " 3   Economy(GDP per Capita)        155 non-null    float64\n",
      " 4   Family                         155 non-null    float64\n",
      " 5   Health (Life Expectancy)       155 non-null    float64\n",
      " 6   Freedom                        155 non-null    float64\n",
      " 7   Generosity                     155 non-null    float64\n",
      " 8   Trust (Government Corruption)  155 non-null    float64\n",
      " 9   Year                           155 non-null    int64  \n",
      "dtypes: float64(7), int64(2), object(1)\n",
      "memory usage: 12.2+ KB\n"
     ]
    }
   ],
   "source": [
    "dfc.info()"
   ]
  },
  {
   "cell_type": "code",
   "execution_count": 18,
   "id": "61d958e5",
   "metadata": {},
   "outputs": [
    {
     "name": "stdout",
     "output_type": "stream",
     "text": [
      "<class 'pandas.core.frame.DataFrame'>\n",
      "RangeIndex: 156 entries, 0 to 155\n",
      "Data columns (total 9 columns):\n",
      " #   Column                        Non-Null Count  Dtype  \n",
      "---  ------                        --------------  -----  \n",
      " 0   Overall rank                  156 non-null    int64  \n",
      " 1   Country or region             156 non-null    object \n",
      " 2   Score                         156 non-null    float64\n",
      " 3   GDP per capita                156 non-null    float64\n",
      " 4   Social support                156 non-null    float64\n",
      " 5   Healthy life expectancy       156 non-null    float64\n",
      " 6   Freedom to make life choices  156 non-null    float64\n",
      " 7   Generosity                    156 non-null    float64\n",
      " 8   Perceptions of corruption     155 non-null    float64\n",
      "dtypes: float64(7), int64(1), object(1)\n",
      "memory usage: 11.1+ KB\n"
     ]
    }
   ],
   "source": [
    "dfd.info()"
   ]
  },
  {
   "cell_type": "code",
   "execution_count": 19,
   "id": "ca2b3e0f",
   "metadata": {},
   "outputs": [],
   "source": [
    "dfd[\"Year\"] = 2018"
   ]
  },
  {
   "cell_type": "code",
   "execution_count": 20,
   "id": "046e770d",
   "metadata": {},
   "outputs": [],
   "source": [
    "dfd=dfd.rename(columns = {'Overall rank':'Happiness Rank'})\n",
    "dfd=dfd.rename(columns = {'Country or region':'Country'})\n",
    "dfd=dfd.rename(columns = {'Score':'Happiness Score'})\n",
    "dfd=dfd.rename(columns = {'GDP per capita':'Economy(GDP per Capita)'})\n",
    "dfd=dfd.rename(columns = {'Social support':'Family'})\n",
    "dfd=dfd.rename(columns = {'Healthy life expectancy':'Health (Life Expectancy)'})\n",
    "dfd=dfd.rename(columns = {'Freedom to make life choices':'Freedom'})\n",
    "dfd=dfd.rename(columns = {'Perceptions of corruption':'Trust (Government Corruption)'})              "
   ]
  },
  {
   "cell_type": "code",
   "execution_count": 21,
   "id": "b266674b",
   "metadata": {},
   "outputs": [
    {
     "name": "stdout",
     "output_type": "stream",
     "text": [
      "<class 'pandas.core.frame.DataFrame'>\n",
      "RangeIndex: 156 entries, 0 to 155\n",
      "Data columns (total 10 columns):\n",
      " #   Column                         Non-Null Count  Dtype  \n",
      "---  ------                         --------------  -----  \n",
      " 0   Happiness Rank                 156 non-null    int64  \n",
      " 1   Country                        156 non-null    object \n",
      " 2   Happiness Score                156 non-null    float64\n",
      " 3   Economy(GDP per Capita)        156 non-null    float64\n",
      " 4   Family                         156 non-null    float64\n",
      " 5   Health (Life Expectancy)       156 non-null    float64\n",
      " 6   Freedom                        156 non-null    float64\n",
      " 7   Generosity                     156 non-null    float64\n",
      " 8   Trust (Government Corruption)  155 non-null    float64\n",
      " 9   Year                           156 non-null    int64  \n",
      "dtypes: float64(7), int64(2), object(1)\n",
      "memory usage: 12.3+ KB\n"
     ]
    }
   ],
   "source": [
    "dfd.info()"
   ]
  },
  {
   "cell_type": "code",
   "execution_count": 22,
   "id": "e79656d3",
   "metadata": {},
   "outputs": [
    {
     "name": "stdout",
     "output_type": "stream",
     "text": [
      "<class 'pandas.core.frame.DataFrame'>\n",
      "RangeIndex: 156 entries, 0 to 155\n",
      "Data columns (total 9 columns):\n",
      " #   Column                        Non-Null Count  Dtype  \n",
      "---  ------                        --------------  -----  \n",
      " 0   Overall rank                  156 non-null    int64  \n",
      " 1   Country or region             156 non-null    object \n",
      " 2   Score                         156 non-null    float64\n",
      " 3   GDP per capita                156 non-null    float64\n",
      " 4   Social support                156 non-null    float64\n",
      " 5   Healthy life expectancy       156 non-null    float64\n",
      " 6   Freedom to make life choices  156 non-null    float64\n",
      " 7   Generosity                    156 non-null    float64\n",
      " 8   Perceptions of corruption     156 non-null    float64\n",
      "dtypes: float64(7), int64(1), object(1)\n",
      "memory usage: 11.1+ KB\n"
     ]
    }
   ],
   "source": [
    "dfe.info()"
   ]
  },
  {
   "cell_type": "code",
   "execution_count": 23,
   "id": "a168d52d",
   "metadata": {},
   "outputs": [],
   "source": [
    "dfe[\"Year\"] = 2019"
   ]
  },
  {
   "cell_type": "code",
   "execution_count": 24,
   "id": "c200282a",
   "metadata": {},
   "outputs": [],
   "source": [
    "dfe=dfe.rename(columns = {'Overall rank':'Happiness Rank'})\n",
    "dfe=dfe.rename(columns = {'Country or region':'Country'})\n",
    "dfe=dfe.rename(columns = {'Score':'Happiness Score'})\n",
    "dfe=dfe.rename(columns = {'GDP per capita':'Economy(GDP per Capita)'})\n",
    "dfe=dfe.rename(columns = {'Social support':'Family'})\n",
    "dfe=dfe.rename(columns = {'Healthy life expectancy':'Health (Life Expectancy)'})\n",
    "dfe=dfe.rename(columns = {'Freedom to make life choices':'Freedom'})\n",
    "dfe=dfe.rename(columns = {'Perceptions of corruption':'Trust (Government Corruption)'}) "
   ]
  },
  {
   "cell_type": "code",
   "execution_count": 25,
   "id": "24aa093a",
   "metadata": {},
   "outputs": [
    {
     "name": "stdout",
     "output_type": "stream",
     "text": [
      "<class 'pandas.core.frame.DataFrame'>\n",
      "RangeIndex: 156 entries, 0 to 155\n",
      "Data columns (total 10 columns):\n",
      " #   Column                         Non-Null Count  Dtype  \n",
      "---  ------                         --------------  -----  \n",
      " 0   Happiness Rank                 156 non-null    int64  \n",
      " 1   Country                        156 non-null    object \n",
      " 2   Happiness Score                156 non-null    float64\n",
      " 3   Economy(GDP per Capita)        156 non-null    float64\n",
      " 4   Family                         156 non-null    float64\n",
      " 5   Health (Life Expectancy)       156 non-null    float64\n",
      " 6   Freedom                        156 non-null    float64\n",
      " 7   Generosity                     156 non-null    float64\n",
      " 8   Trust (Government Corruption)  156 non-null    float64\n",
      " 9   Year                           156 non-null    int64  \n",
      "dtypes: float64(7), int64(2), object(1)\n",
      "memory usage: 12.3+ KB\n"
     ]
    }
   ],
   "source": [
    "dfe.info()"
   ]
  },
  {
   "cell_type": "code",
   "execution_count": 26,
   "id": "c9db194b",
   "metadata": {},
   "outputs": [],
   "source": [
    "df = pd.concat([dfa,dfb,dfc,dfd,dfe])"
   ]
  },
  {
   "cell_type": "code",
   "execution_count": 27,
   "id": "7ed0cfe4",
   "metadata": {},
   "outputs": [
    {
     "name": "stdout",
     "output_type": "stream",
     "text": [
      "<class 'pandas.core.frame.DataFrame'>\n",
      "Int64Index: 782 entries, 0 to 155\n",
      "Data columns (total 10 columns):\n",
      " #   Column                         Non-Null Count  Dtype  \n",
      "---  ------                         --------------  -----  \n",
      " 0   Country                        782 non-null    object \n",
      " 1   Happiness Rank                 782 non-null    int64  \n",
      " 2   Happiness Score                782 non-null    float64\n",
      " 3   Economy(GDP per Capita)        782 non-null    float64\n",
      " 4   Family                         782 non-null    float64\n",
      " 5   Health (Life Expectancy)       782 non-null    float64\n",
      " 6   Freedom                        782 non-null    float64\n",
      " 7   Trust (Government Corruption)  781 non-null    float64\n",
      " 8   Generosity                     782 non-null    float64\n",
      " 9   Year                           782 non-null    int64  \n",
      "dtypes: float64(7), int64(2), object(1)\n",
      "memory usage: 67.2+ KB\n"
     ]
    }
   ],
   "source": [
    "df.info()"
   ]
  },
  {
   "cell_type": "code",
   "execution_count": 28,
   "id": "e0363897",
   "metadata": {},
   "outputs": [
    {
     "data": {
      "text/plain": [
       "2015    158\n",
       "2016    157\n",
       "2018    156\n",
       "2019    156\n",
       "2017    155\n",
       "Name: Year, dtype: int64"
      ]
     },
     "execution_count": 28,
     "metadata": {},
     "output_type": "execute_result"
    }
   ],
   "source": [
    "df.Year.value_counts()"
   ]
  },
  {
   "cell_type": "code",
   "execution_count": 29,
   "id": "cec55d62",
   "metadata": {},
   "outputs": [],
   "source": [
    "df.to_csv(\"Happiness1.csv\",index=False)"
   ]
  },
  {
   "cell_type": "code",
   "execution_count": null,
   "id": "c4c68200",
   "metadata": {},
   "outputs": [],
   "source": []
  }
 ],
 "metadata": {
  "kernelspec": {
   "display_name": "Python 3",
   "language": "python",
   "name": "python3"
  },
  "language_info": {
   "codemirror_mode": {
    "name": "ipython",
    "version": 3
   },
   "file_extension": ".py",
   "mimetype": "text/x-python",
   "name": "python",
   "nbconvert_exporter": "python",
   "pygments_lexer": "ipython3",
   "version": "3.8.8"
  }
 },
 "nbformat": 4,
 "nbformat_minor": 5
}
